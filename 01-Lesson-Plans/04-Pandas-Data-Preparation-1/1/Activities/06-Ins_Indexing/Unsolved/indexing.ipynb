{
 "cells": [
  {
   "cell_type": "code",
   "execution_count": 1,
   "metadata": {},
   "outputs": [],
   "source": [
    "# Import libraries and dependencies\n",
    "import pandas as pd"
   ]
  },
  {
   "cell_type": "markdown",
   "metadata": {},
   "source": [
    "### Read CSV in as DataFrame"
   ]
  },
  {
   "cell_type": "code",
   "execution_count": 2,
   "metadata": {},
   "outputs": [
    {
     "data": {
      "text/html": [
       "<div>\n",
       "<style scoped>\n",
       "    .dataframe tbody tr th:only-of-type {\n",
       "        vertical-align: middle;\n",
       "    }\n",
       "\n",
       "    .dataframe tbody tr th {\n",
       "        vertical-align: top;\n",
       "    }\n",
       "\n",
       "    .dataframe thead th {\n",
       "        text-align: right;\n",
       "    }\n",
       "</style>\n",
       "<table border=\"1\" class=\"dataframe\">\n",
       "  <thead>\n",
       "    <tr style=\"text-align: right;\">\n",
       "      <th></th>\n",
       "      <th>first_name</th>\n",
       "      <th>last_name</th>\n",
       "      <th>gender</th>\n",
       "      <th>age</th>\n",
       "      <th>company_name</th>\n",
       "      <th>address</th>\n",
       "      <th>city</th>\n",
       "      <th>phone1</th>\n",
       "      <th>phone2</th>\n",
       "      <th>email</th>\n",
       "    </tr>\n",
       "  </thead>\n",
       "  <tbody>\n",
       "    <tr>\n",
       "      <th>0</th>\n",
       "      <td>Rufe</td>\n",
       "      <td>Eickhoff</td>\n",
       "      <td>M</td>\n",
       "      <td>54</td>\n",
       "      <td>Zieme and Sons</td>\n",
       "      <td>0 Summer Ridge Pass</td>\n",
       "      <td>Mizque</td>\n",
       "      <td>740-948-0089</td>\n",
       "      <td>177-453-4212</td>\n",
       "      <td>reickhoff0@last.fm</td>\n",
       "    </tr>\n",
       "    <tr>\n",
       "      <th>1</th>\n",
       "      <td>Berkie</td>\n",
       "      <td>Morson</td>\n",
       "      <td>M</td>\n",
       "      <td>20</td>\n",
       "      <td>Gibson and Sons</td>\n",
       "      <td>37963 Linden Crossing</td>\n",
       "      <td>Ouro Branco</td>\n",
       "      <td>168-714-9518</td>\n",
       "      <td>435-628-4078</td>\n",
       "      <td>bmorson1@homestead.com</td>\n",
       "    </tr>\n",
       "    <tr>\n",
       "      <th>2</th>\n",
       "      <td>Urbano</td>\n",
       "      <td>Polly</td>\n",
       "      <td>M</td>\n",
       "      <td>29</td>\n",
       "      <td>Brown-Dietrich</td>\n",
       "      <td>772 Crowley Court</td>\n",
       "      <td>Banff</td>\n",
       "      <td>126-409-5968</td>\n",
       "      <td>523-115-7431</td>\n",
       "      <td>upolly2@cdbaby.com</td>\n",
       "    </tr>\n",
       "    <tr>\n",
       "      <th>3</th>\n",
       "      <td>Alphonso</td>\n",
       "      <td>Bourley</td>\n",
       "      <td>M</td>\n",
       "      <td>29</td>\n",
       "      <td>Hansen-Russel</td>\n",
       "      <td>0 Graceland Avenue</td>\n",
       "      <td>Sabana Grande</td>\n",
       "      <td>583-906-8550</td>\n",
       "      <td>363-721-4939</td>\n",
       "      <td>abourley3@issuu.com</td>\n",
       "    </tr>\n",
       "    <tr>\n",
       "      <th>4</th>\n",
       "      <td>Munmro</td>\n",
       "      <td>Fenck</td>\n",
       "      <td>M</td>\n",
       "      <td>57</td>\n",
       "      <td>Jaskolski and D'Amore</td>\n",
       "      <td>7 Rowland Way</td>\n",
       "      <td>Pitai</td>\n",
       "      <td>141-960-7812</td>\n",
       "      <td>652-495-4816</td>\n",
       "      <td>mfenck4@mediafire.com</td>\n",
       "    </tr>\n",
       "  </tbody>\n",
       "</table>\n",
       "</div>"
      ],
      "text/plain": [
       "  first_name last_name gender  age           company_name  \\\n",
       "0       Rufe  Eickhoff      M   54         Zieme and Sons   \n",
       "1     Berkie    Morson      M   20        Gibson and Sons   \n",
       "2     Urbano     Polly      M   29         Brown-Dietrich   \n",
       "3   Alphonso   Bourley      M   29          Hansen-Russel   \n",
       "4     Munmro     Fenck      M   57  Jaskolski and D'Amore   \n",
       "\n",
       "                 address           city        phone1        phone2  \\\n",
       "0    0 Summer Ridge Pass         Mizque  740-948-0089  177-453-4212   \n",
       "1  37963 Linden Crossing    Ouro Branco  168-714-9518  435-628-4078   \n",
       "2      772 Crowley Court          Banff  126-409-5968  523-115-7431   \n",
       "3     0 Graceland Avenue  Sabana Grande  583-906-8550  363-721-4939   \n",
       "4          7 Rowland Way          Pitai  141-960-7812  652-495-4816   \n",
       "\n",
       "                    email  \n",
       "0      reickhoff0@last.fm  \n",
       "1  bmorson1@homestead.com  \n",
       "2      upolly2@cdbaby.com  \n",
       "3     abourley3@issuu.com  \n",
       "4   mfenck4@mediafire.com  "
      ]
     },
     "execution_count": 2,
     "metadata": {},
     "output_type": "execute_result"
    }
   ],
   "source": [
    "# Set the file path\n",
    "file_path = '../Resources/people.csv'\n",
    "\n",
    "# Read in the CSV as a DataFrame\n",
    "people_csv = pd.read_csv(file_path)\n",
    "people_csv.head()"
   ]
  },
  {
   "cell_type": "markdown",
   "metadata": {},
   "source": [
    "### Index Selection Using iloc"
   ]
  },
  {
   "cell_type": "code",
   "execution_count": 6,
   "metadata": {},
   "outputs": [
    {
     "data": {
      "text/plain": [
       "first_name                     Rufe\n",
       "last_name                  Eickhoff\n",
       "gender                            M\n",
       "age                              54\n",
       "company_name         Zieme and Sons\n",
       "address         0 Summer Ridge Pass\n",
       "city                         Mizque\n",
       "phone1                 740-948-0089\n",
       "phone2                 177-453-4212\n",
       "email            reickhoff0@last.fm\n",
       "Name: 0, dtype: object"
      ]
     },
     "execution_count": 6,
     "metadata": {},
     "output_type": "execute_result"
    }
   ],
   "source": [
    "# Select the first row of the DataFrame\n",
    "people_csv.iloc[0]"
   ]
  },
  {
   "cell_type": "code",
   "execution_count": 7,
   "metadata": {},
   "outputs": [
    {
     "data": {
      "text/plain": [
       "first_name                      Berkie\n",
       "last_name                       Morson\n",
       "gender                               M\n",
       "age                                 20\n",
       "company_name           Gibson and Sons\n",
       "address          37963 Linden Crossing\n",
       "city                       Ouro Branco\n",
       "phone1                    168-714-9518\n",
       "phone2                    435-628-4078\n",
       "email           bmorson1@homestead.com\n",
       "Name: 1, dtype: object"
      ]
     },
     "execution_count": 7,
     "metadata": {},
     "output_type": "execute_result"
    }
   ],
   "source": [
    "# Select the second row of the DataFrame\n",
    "people_csv.iloc[1]"
   ]
  },
  {
   "cell_type": "code",
   "execution_count": 8,
   "metadata": {},
   "outputs": [
    {
     "data": {
      "text/html": [
       "<div>\n",
       "<style scoped>\n",
       "    .dataframe tbody tr th:only-of-type {\n",
       "        vertical-align: middle;\n",
       "    }\n",
       "\n",
       "    .dataframe tbody tr th {\n",
       "        vertical-align: top;\n",
       "    }\n",
       "\n",
       "    .dataframe thead th {\n",
       "        text-align: right;\n",
       "    }\n",
       "</style>\n",
       "<table border=\"1\" class=\"dataframe\">\n",
       "  <thead>\n",
       "    <tr style=\"text-align: right;\">\n",
       "      <th></th>\n",
       "      <th>first_name</th>\n",
       "      <th>last_name</th>\n",
       "      <th>gender</th>\n",
       "      <th>age</th>\n",
       "      <th>company_name</th>\n",
       "      <th>address</th>\n",
       "      <th>city</th>\n",
       "      <th>phone1</th>\n",
       "      <th>phone2</th>\n",
       "      <th>email</th>\n",
       "    </tr>\n",
       "  </thead>\n",
       "  <tbody>\n",
       "    <tr>\n",
       "      <th>0</th>\n",
       "      <td>Rufe</td>\n",
       "      <td>Eickhoff</td>\n",
       "      <td>M</td>\n",
       "      <td>54</td>\n",
       "      <td>Zieme and Sons</td>\n",
       "      <td>0 Summer Ridge Pass</td>\n",
       "      <td>Mizque</td>\n",
       "      <td>740-948-0089</td>\n",
       "      <td>177-453-4212</td>\n",
       "      <td>reickhoff0@last.fm</td>\n",
       "    </tr>\n",
       "    <tr>\n",
       "      <th>1</th>\n",
       "      <td>Berkie</td>\n",
       "      <td>Morson</td>\n",
       "      <td>M</td>\n",
       "      <td>20</td>\n",
       "      <td>Gibson and Sons</td>\n",
       "      <td>37963 Linden Crossing</td>\n",
       "      <td>Ouro Branco</td>\n",
       "      <td>168-714-9518</td>\n",
       "      <td>435-628-4078</td>\n",
       "      <td>bmorson1@homestead.com</td>\n",
       "    </tr>\n",
       "    <tr>\n",
       "      <th>2</th>\n",
       "      <td>Urbano</td>\n",
       "      <td>Polly</td>\n",
       "      <td>M</td>\n",
       "      <td>29</td>\n",
       "      <td>Brown-Dietrich</td>\n",
       "      <td>772 Crowley Court</td>\n",
       "      <td>Banff</td>\n",
       "      <td>126-409-5968</td>\n",
       "      <td>523-115-7431</td>\n",
       "      <td>upolly2@cdbaby.com</td>\n",
       "    </tr>\n",
       "    <tr>\n",
       "      <th>3</th>\n",
       "      <td>Alphonso</td>\n",
       "      <td>Bourley</td>\n",
       "      <td>M</td>\n",
       "      <td>29</td>\n",
       "      <td>Hansen-Russel</td>\n",
       "      <td>0 Graceland Avenue</td>\n",
       "      <td>Sabana Grande</td>\n",
       "      <td>583-906-8550</td>\n",
       "      <td>363-721-4939</td>\n",
       "      <td>abourley3@issuu.com</td>\n",
       "    </tr>\n",
       "    <tr>\n",
       "      <th>4</th>\n",
       "      <td>Munmro</td>\n",
       "      <td>Fenck</td>\n",
       "      <td>M</td>\n",
       "      <td>57</td>\n",
       "      <td>Jaskolski and D'Amore</td>\n",
       "      <td>7 Rowland Way</td>\n",
       "      <td>Pitai</td>\n",
       "      <td>141-960-7812</td>\n",
       "      <td>652-495-4816</td>\n",
       "      <td>mfenck4@mediafire.com</td>\n",
       "    </tr>\n",
       "    <tr>\n",
       "      <th>5</th>\n",
       "      <td>Colby</td>\n",
       "      <td>Chalfont</td>\n",
       "      <td>M</td>\n",
       "      <td>32</td>\n",
       "      <td>Kunde, Herzog and Lindgren</td>\n",
       "      <td>98 Little Fleur Court</td>\n",
       "      <td>Liwale</td>\n",
       "      <td>395-153-7931</td>\n",
       "      <td>963-148-3533</td>\n",
       "      <td>cchalfont5@gov.uk</td>\n",
       "    </tr>\n",
       "    <tr>\n",
       "      <th>6</th>\n",
       "      <td>Erek</td>\n",
       "      <td>Simone</td>\n",
       "      <td>M</td>\n",
       "      <td>29</td>\n",
       "      <td>Botsford-Graham</td>\n",
       "      <td>441 Grover Parkway</td>\n",
       "      <td>Caoxi</td>\n",
       "      <td>742-302-7229</td>\n",
       "      <td>185-900-2437</td>\n",
       "      <td>esimone6@apple.com</td>\n",
       "    </tr>\n",
       "    <tr>\n",
       "      <th>7</th>\n",
       "      <td>Anett</td>\n",
       "      <td>Everly</td>\n",
       "      <td>F</td>\n",
       "      <td>49</td>\n",
       "      <td>Hahn, Tremblay and Keebler</td>\n",
       "      <td>3226 Everett Center</td>\n",
       "      <td>Wangjiahe</td>\n",
       "      <td>383-619-6899</td>\n",
       "      <td>361-512-7416</td>\n",
       "      <td>aeverly7@jimdo.com</td>\n",
       "    </tr>\n",
       "    <tr>\n",
       "      <th>8</th>\n",
       "      <td>Howey</td>\n",
       "      <td>Cauldfield</td>\n",
       "      <td>M</td>\n",
       "      <td>23</td>\n",
       "      <td>Wyman LLC</td>\n",
       "      <td>72 Anzinger Street</td>\n",
       "      <td>Huancheng</td>\n",
       "      <td>350-164-4646</td>\n",
       "      <td>112-819-7882</td>\n",
       "      <td>hcauldfield8@nationalgeographic.com</td>\n",
       "    </tr>\n",
       "    <tr>\n",
       "      <th>9</th>\n",
       "      <td>Nate</td>\n",
       "      <td>Rowbottam</td>\n",
       "      <td>M</td>\n",
       "      <td>71</td>\n",
       "      <td>Bahringer Group</td>\n",
       "      <td>9 Glendale Alley</td>\n",
       "      <td>Río Bueno</td>\n",
       "      <td>660-856-1179</td>\n",
       "      <td>819-227-5451</td>\n",
       "      <td>nrowbottam9@yahoo.com</td>\n",
       "    </tr>\n",
       "  </tbody>\n",
       "</table>\n",
       "</div>"
      ],
      "text/plain": [
       "  first_name   last_name gender  age                company_name  \\\n",
       "0       Rufe    Eickhoff      M   54              Zieme and Sons   \n",
       "1     Berkie      Morson      M   20             Gibson and Sons   \n",
       "2     Urbano       Polly      M   29              Brown-Dietrich   \n",
       "3   Alphonso     Bourley      M   29               Hansen-Russel   \n",
       "4     Munmro       Fenck      M   57       Jaskolski and D'Amore   \n",
       "5      Colby    Chalfont      M   32  Kunde, Herzog and Lindgren   \n",
       "6       Erek      Simone      M   29             Botsford-Graham   \n",
       "7      Anett      Everly      F   49  Hahn, Tremblay and Keebler   \n",
       "8      Howey  Cauldfield      M   23                   Wyman LLC   \n",
       "9       Nate   Rowbottam      M   71             Bahringer Group   \n",
       "\n",
       "                 address           city        phone1        phone2  \\\n",
       "0    0 Summer Ridge Pass         Mizque  740-948-0089  177-453-4212   \n",
       "1  37963 Linden Crossing    Ouro Branco  168-714-9518  435-628-4078   \n",
       "2      772 Crowley Court          Banff  126-409-5968  523-115-7431   \n",
       "3     0 Graceland Avenue  Sabana Grande  583-906-8550  363-721-4939   \n",
       "4          7 Rowland Way          Pitai  141-960-7812  652-495-4816   \n",
       "5  98 Little Fleur Court         Liwale  395-153-7931  963-148-3533   \n",
       "6     441 Grover Parkway          Caoxi  742-302-7229  185-900-2437   \n",
       "7    3226 Everett Center      Wangjiahe  383-619-6899  361-512-7416   \n",
       "8     72 Anzinger Street      Huancheng  350-164-4646  112-819-7882   \n",
       "9       9 Glendale Alley      Río Bueno  660-856-1179  819-227-5451   \n",
       "\n",
       "                                 email  \n",
       "0                   reickhoff0@last.fm  \n",
       "1               bmorson1@homestead.com  \n",
       "2                   upolly2@cdbaby.com  \n",
       "3                  abourley3@issuu.com  \n",
       "4                mfenck4@mediafire.com  \n",
       "5                    cchalfont5@gov.uk  \n",
       "6                   esimone6@apple.com  \n",
       "7                   aeverly7@jimdo.com  \n",
       "8  hcauldfield8@nationalgeographic.com  \n",
       "9                nrowbottam9@yahoo.com  "
      ]
     },
     "execution_count": 8,
     "metadata": {},
     "output_type": "execute_result"
    }
   ],
   "source": [
    "# Select the first 10 rows of the DataFrame\n",
    "people_csv.iloc[0:10]"
   ]
  },
  {
   "cell_type": "code",
   "execution_count": 17,
   "metadata": {},
   "outputs": [
    {
     "data": {
      "text/plain": [
       "first_name                  Helen-elizabeth\n",
       "last_name                             McKew\n",
       "gender                                    F\n",
       "age                                      40\n",
       "company_name    Wisozk, Mueller and Streich\n",
       "address                  1 Northfield Alley\n",
       "city                              Sijunjung\n",
       "phone1                         922-121-7848\n",
       "phone2                         649-108-4915\n",
       "email                      hmckewdv@ibm.com\n",
       "Name: 499, dtype: object"
      ]
     },
     "execution_count": 17,
     "metadata": {},
     "output_type": "execute_result"
    }
   ],
   "source": [
    "# Select the last row of the DataFrame\n",
    "people_csv.iloc[-1]"
   ]
  },
  {
   "cell_type": "code",
   "execution_count": 21,
   "metadata": {},
   "outputs": [
    {
     "data": {
      "text/plain": [
       "first_name        Rufe\n",
       "last_name     Eickhoff\n",
       "gender               M\n",
       "Name: 0, dtype: object"
      ]
     },
     "execution_count": 21,
     "metadata": {},
     "output_type": "execute_result"
    }
   ],
   "source": [
    "# Select the first column of the DataFrame\n",
    "people_csv.iloc[0, 0]"
   ]
  },
  {
   "cell_type": "code",
   "execution_count": 24,
   "metadata": {},
   "outputs": [
    {
     "data": {
      "text/plain": [
       "0             reickhoff0@last.fm\n",
       "1         bmorson1@homestead.com\n",
       "2             upolly2@cdbaby.com\n",
       "3            abourley3@issuu.com\n",
       "4          mfenck4@mediafire.com\n",
       "                 ...            \n",
       "495    ppatriadr@stumbleupon.com\n",
       "496         pparrettds@cam.ac.uk\n",
       "497         ejakemandt@prlog.org\n",
       "498          cbarfootdu@about.me\n",
       "499             hmckewdv@ibm.com\n",
       "Name: email, Length: 500, dtype: object"
      ]
     },
     "execution_count": 24,
     "metadata": {},
     "output_type": "execute_result"
    }
   ],
   "source": [
    "# Select the second column of the DataFrame, with all rows\n",
    "people_csv.iloc[0:, 1]"
   ]
  },
  {
   "cell_type": "code",
   "execution_count": null,
   "metadata": {},
   "outputs": [],
   "source": [
    "# Select the last column of the DataFrame, with all rows\n",
    "people_csv.iloc[:, -1]"
   ]
  },
  {
   "cell_type": "code",
   "execution_count": 25,
   "metadata": {},
   "outputs": [
    {
     "data": {
      "text/html": [
       "<div>\n",
       "<style scoped>\n",
       "    .dataframe tbody tr th:only-of-type {\n",
       "        vertical-align: middle;\n",
       "    }\n",
       "\n",
       "    .dataframe tbody tr th {\n",
       "        vertical-align: top;\n",
       "    }\n",
       "\n",
       "    .dataframe thead th {\n",
       "        text-align: right;\n",
       "    }\n",
       "</style>\n",
       "<table border=\"1\" class=\"dataframe\">\n",
       "  <thead>\n",
       "    <tr style=\"text-align: right;\">\n",
       "      <th></th>\n",
       "      <th>first_name</th>\n",
       "      <th>last_name</th>\n",
       "    </tr>\n",
       "  </thead>\n",
       "  <tbody>\n",
       "    <tr>\n",
       "      <th>0</th>\n",
       "      <td>Rufe</td>\n",
       "      <td>Eickhoff</td>\n",
       "    </tr>\n",
       "    <tr>\n",
       "      <th>1</th>\n",
       "      <td>Berkie</td>\n",
       "      <td>Morson</td>\n",
       "    </tr>\n",
       "    <tr>\n",
       "      <th>2</th>\n",
       "      <td>Urbano</td>\n",
       "      <td>Polly</td>\n",
       "    </tr>\n",
       "    <tr>\n",
       "      <th>3</th>\n",
       "      <td>Alphonso</td>\n",
       "      <td>Bourley</td>\n",
       "    </tr>\n",
       "    <tr>\n",
       "      <th>4</th>\n",
       "      <td>Munmro</td>\n",
       "      <td>Fenck</td>\n",
       "    </tr>\n",
       "    <tr>\n",
       "      <th>...</th>\n",
       "      <td>...</td>\n",
       "      <td>...</td>\n",
       "    </tr>\n",
       "    <tr>\n",
       "      <th>495</th>\n",
       "      <td>Perrine</td>\n",
       "      <td>Patria</td>\n",
       "    </tr>\n",
       "    <tr>\n",
       "      <th>496</th>\n",
       "      <td>Perl</td>\n",
       "      <td>Parrett</td>\n",
       "    </tr>\n",
       "    <tr>\n",
       "      <th>497</th>\n",
       "      <td>Eleen</td>\n",
       "      <td>Jakeman</td>\n",
       "    </tr>\n",
       "    <tr>\n",
       "      <th>498</th>\n",
       "      <td>Crysta</td>\n",
       "      <td>Barfoot</td>\n",
       "    </tr>\n",
       "    <tr>\n",
       "      <th>499</th>\n",
       "      <td>Helen-elizabeth</td>\n",
       "      <td>McKew</td>\n",
       "    </tr>\n",
       "  </tbody>\n",
       "</table>\n",
       "<p>500 rows × 2 columns</p>\n",
       "</div>"
      ],
      "text/plain": [
       "          first_name last_name\n",
       "0               Rufe  Eickhoff\n",
       "1             Berkie    Morson\n",
       "2             Urbano     Polly\n",
       "3           Alphonso   Bourley\n",
       "4             Munmro     Fenck\n",
       "..               ...       ...\n",
       "495          Perrine    Patria\n",
       "496             Perl   Parrett\n",
       "497            Eleen   Jakeman\n",
       "498           Crysta   Barfoot\n",
       "499  Helen-elizabeth     McKew\n",
       "\n",
       "[500 rows x 2 columns]"
      ]
     },
     "execution_count": 25,
     "metadata": {},
     "output_type": "execute_result"
    }
   ],
   "source": [
    "# Select the first two columns of the DataFrame, with all rows\n",
    "people_csv.iloc[:, 0:2]"
   ]
  },
  {
   "cell_type": "code",
   "execution_count": 26,
   "metadata": {},
   "outputs": [
    {
     "data": {
      "text/html": [
       "<div>\n",
       "<style scoped>\n",
       "    .dataframe tbody tr th:only-of-type {\n",
       "        vertical-align: middle;\n",
       "    }\n",
       "\n",
       "    .dataframe tbody tr th {\n",
       "        vertical-align: top;\n",
       "    }\n",
       "\n",
       "    .dataframe thead th {\n",
       "        text-align: right;\n",
       "    }\n",
       "</style>\n",
       "<table border=\"1\" class=\"dataframe\">\n",
       "  <thead>\n",
       "    <tr style=\"text-align: right;\">\n",
       "      <th></th>\n",
       "      <th>first_name</th>\n",
       "      <th>age</th>\n",
       "      <th>address</th>\n",
       "    </tr>\n",
       "  </thead>\n",
       "  <tbody>\n",
       "    <tr>\n",
       "      <th>0</th>\n",
       "      <td>Rufe</td>\n",
       "      <td>54</td>\n",
       "      <td>0 Summer Ridge Pass</td>\n",
       "    </tr>\n",
       "    <tr>\n",
       "      <th>4</th>\n",
       "      <td>Munmro</td>\n",
       "      <td>57</td>\n",
       "      <td>7 Rowland Way</td>\n",
       "    </tr>\n",
       "    <tr>\n",
       "      <th>7</th>\n",
       "      <td>Anett</td>\n",
       "      <td>49</td>\n",
       "      <td>3226 Everett Center</td>\n",
       "    </tr>\n",
       "    <tr>\n",
       "      <th>21</th>\n",
       "      <td>Loren</td>\n",
       "      <td>31</td>\n",
       "      <td>156 Eastlawn Trail</td>\n",
       "    </tr>\n",
       "  </tbody>\n",
       "</table>\n",
       "</div>"
      ],
      "text/plain": [
       "   first_name  age              address\n",
       "0        Rufe   54  0 Summer Ridge Pass\n",
       "4      Munmro   57        7 Rowland Way\n",
       "7       Anett   49  3226 Everett Center\n",
       "21      Loren   31   156 Eastlawn Trail"
      ]
     },
     "execution_count": 26,
     "metadata": {},
     "output_type": "execute_result"
    }
   ],
   "source": [
    "# Select the 1st, 5th, 8th, 22nd rows of the 1st 4th and 6th columns.\n",
    "people_csv.iloc[\n",
    "    [0,4,7,21],\n",
    "    [0,3,5]\n",
    "    ]"
   ]
  },
  {
   "cell_type": "code",
   "execution_count": 27,
   "metadata": {},
   "outputs": [
    {
     "data": {
      "text/html": [
       "<div>\n",
       "<style scoped>\n",
       "    .dataframe tbody tr th:only-of-type {\n",
       "        vertical-align: middle;\n",
       "    }\n",
       "\n",
       "    .dataframe tbody tr th {\n",
       "        vertical-align: top;\n",
       "    }\n",
       "\n",
       "    .dataframe thead th {\n",
       "        text-align: right;\n",
       "    }\n",
       "</style>\n",
       "<table border=\"1\" class=\"dataframe\">\n",
       "  <thead>\n",
       "    <tr style=\"text-align: right;\">\n",
       "      <th></th>\n",
       "      <th>gender</th>\n",
       "      <th>age</th>\n",
       "      <th>company_name</th>\n",
       "    </tr>\n",
       "  </thead>\n",
       "  <tbody>\n",
       "    <tr>\n",
       "      <th>0</th>\n",
       "      <td>M</td>\n",
       "      <td>54</td>\n",
       "      <td>Zieme and Sons</td>\n",
       "    </tr>\n",
       "    <tr>\n",
       "      <th>1</th>\n",
       "      <td>M</td>\n",
       "      <td>20</td>\n",
       "      <td>Gibson and Sons</td>\n",
       "    </tr>\n",
       "    <tr>\n",
       "      <th>2</th>\n",
       "      <td>M</td>\n",
       "      <td>29</td>\n",
       "      <td>Brown-Dietrich</td>\n",
       "    </tr>\n",
       "    <tr>\n",
       "      <th>3</th>\n",
       "      <td>M</td>\n",
       "      <td>29</td>\n",
       "      <td>Hansen-Russel</td>\n",
       "    </tr>\n",
       "    <tr>\n",
       "      <th>4</th>\n",
       "      <td>M</td>\n",
       "      <td>57</td>\n",
       "      <td>Jaskolski and D'Amore</td>\n",
       "    </tr>\n",
       "  </tbody>\n",
       "</table>\n",
       "</div>"
      ],
      "text/plain": [
       "  gender  age           company_name\n",
       "0      M   54         Zieme and Sons\n",
       "1      M   20        Gibson and Sons\n",
       "2      M   29         Brown-Dietrich\n",
       "3      M   29          Hansen-Russel\n",
       "4      M   57  Jaskolski and D'Amore"
      ]
     },
     "execution_count": 27,
     "metadata": {},
     "output_type": "execute_result"
    }
   ],
   "source": [
    "# Select the first 5 rows of the 3rd, 4th, and 5th columns of the DataFrame\n",
    "people_csv.iloc[0:5,2:5]"
   ]
  },
  {
   "cell_type": "markdown",
   "metadata": {},
   "source": [
    "### Assignment Using iLoc"
   ]
  },
  {
   "cell_type": "code",
   "execution_count": null,
   "metadata": {},
   "outputs": [],
   "source": [
    "# Modify the 'first_name' column value of the first row\n",
    "people_csv.iloc[0, people_csv.columns.get_loc('first_name')] = 'ASDF'\n",
    "people_csv.head()"
   ]
  },
  {
   "cell_type": "markdown",
   "metadata": {},
   "source": [
    "### Index Selection Using Loc"
   ]
  },
  {
   "cell_type": "code",
   "execution_count": null,
   "metadata": {},
   "outputs": [],
   "source": [
    "# Indexing\n"
   ]
  },
  {
   "cell_type": "code",
   "execution_count": null,
   "metadata": {},
   "outputs": [],
   "source": [
    "# Set the index as the 'first_name' column\n"
   ]
  },
  {
   "cell_type": "code",
   "execution_count": null,
   "metadata": {},
   "outputs": [],
   "source": [
    "# Sort by the index\n"
   ]
  },
  {
   "cell_type": "code",
   "execution_count": null,
   "metadata": {},
   "outputs": [],
   "source": [
    "# Select the row with the index 'Evan'\n"
   ]
  },
  {
   "cell_type": "code",
   "execution_count": null,
   "metadata": {},
   "outputs": [],
   "source": [
    "# Slice the data to output a range of rows based on the index\n"
   ]
  },
  {
   "cell_type": "code",
   "execution_count": null,
   "metadata": {},
   "outputs": [],
   "source": [
    "# Filter rows based on a column value conditional\n",
    "people_csv.loc[people_csv['age'] == 39].head()"
   ]
  },
  {
   "cell_type": "markdown",
   "metadata": {},
   "source": [
    "### Assignment Using Loc"
   ]
  },
  {
   "cell_type": "code",
   "execution_count": null,
   "metadata": {},
   "outputs": [],
   "source": [
    "# Modify the 'first_name' value of the row with the index 'Yun'\n"
   ]
  },
  {
   "cell_type": "code",
   "execution_count": null,
   "metadata": {},
   "outputs": [],
   "source": []
  }
 ],
 "metadata": {
  "kernelspec": {
   "display_name": "Python 3",
   "language": "python",
   "name": "python3"
  },
  "language_info": {
   "codemirror_mode": {
    "name": "ipython",
    "version": 3
   },
   "file_extension": ".py",
   "mimetype": "text/x-python",
   "name": "python",
   "nbconvert_exporter": "python",
   "pygments_lexer": "ipython3",
   "version": "3.10.13"
  }
 },
 "nbformat": 4,
 "nbformat_minor": 2
}
