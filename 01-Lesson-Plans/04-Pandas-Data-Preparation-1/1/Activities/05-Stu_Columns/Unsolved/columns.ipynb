{
 "cells": [
  {
   "cell_type": "code",
   "execution_count": 9,
   "metadata": {},
   "outputs": [],
   "source": [
    "# Dependencies\n",
    "import pandas as pd"
   ]
  },
  {
   "cell_type": "code",
   "execution_count": 10,
   "metadata": {},
   "outputs": [
    {
     "data": {
      "text/html": [
       "<div>\n",
       "<style scoped>\n",
       "    .dataframe tbody tr th:only-of-type {\n",
       "        vertical-align: middle;\n",
       "    }\n",
       "\n",
       "    .dataframe tbody tr th {\n",
       "        vertical-align: top;\n",
       "    }\n",
       "\n",
       "    .dataframe thead th {\n",
       "        text-align: right;\n",
       "    }\n",
       "</style>\n",
       "<table border=\"1\" class=\"dataframe\">\n",
       "  <thead>\n",
       "    <tr style=\"text-align: right;\">\n",
       "      <th></th>\n",
       "      <th>donorName</th>\n",
       "      <th>employerName</th>\n",
       "      <th>City</th>\n",
       "      <th>State</th>\n",
       "      <th>zipcode</th>\n",
       "      <th>usd</th>\n",
       "    </tr>\n",
       "  </thead>\n",
       "  <tbody>\n",
       "    <tr>\n",
       "      <th>0</th>\n",
       "      <td>CAREY, JAMES</td>\n",
       "      <td>UNEMPLOYED</td>\n",
       "      <td>HOCKESSIN</td>\n",
       "      <td>DE</td>\n",
       "      <td>197071618.0</td>\n",
       "      <td>500</td>\n",
       "    </tr>\n",
       "    <tr>\n",
       "      <th>1</th>\n",
       "      <td>OBICI, SILVANA</td>\n",
       "      <td>STONY BROOK</td>\n",
       "      <td>PORT JEFFERSON STATION</td>\n",
       "      <td>NY</td>\n",
       "      <td>117764286.0</td>\n",
       "      <td>250</td>\n",
       "    </tr>\n",
       "    <tr>\n",
       "      <th>2</th>\n",
       "      <td>MAISLIN, KAREN</td>\n",
       "      <td>RETIRED</td>\n",
       "      <td>WILLIAMSVILLE</td>\n",
       "      <td>NY</td>\n",
       "      <td>14221.0</td>\n",
       "      <td>250</td>\n",
       "    </tr>\n",
       "    <tr>\n",
       "      <th>3</th>\n",
       "      <td>MCCLELLAND, CARTER AND STEPHANIE</td>\n",
       "      <td>UNION SQUARE ADVISORS</td>\n",
       "      <td>NEW YORK</td>\n",
       "      <td>NY</td>\n",
       "      <td>10023.0</td>\n",
       "      <td>1000</td>\n",
       "    </tr>\n",
       "    <tr>\n",
       "      <th>4</th>\n",
       "      <td>MCCLUSKEY, MARTHA</td>\n",
       "      <td>STATE UNIVERSITY OF NEW YORK</td>\n",
       "      <td>BUFFALO</td>\n",
       "      <td>NY</td>\n",
       "      <td>14214.0</td>\n",
       "      <td>250</td>\n",
       "    </tr>\n",
       "  </tbody>\n",
       "</table>\n",
       "</div>"
      ],
      "text/plain": [
       "                          donorName                  employerName  \\\n",
       "0                      CAREY, JAMES                    UNEMPLOYED   \n",
       "1                    OBICI, SILVANA                   STONY BROOK   \n",
       "2                    MAISLIN, KAREN                       RETIRED   \n",
       "3  MCCLELLAND, CARTER AND STEPHANIE         UNION SQUARE ADVISORS   \n",
       "4                 MCCLUSKEY, MARTHA  STATE UNIVERSITY OF NEW YORK   \n",
       "\n",
       "                     City State      zipcode   usd  \n",
       "0               HOCKESSIN    DE  197071618.0   500  \n",
       "1  PORT JEFFERSON STATION    NY  117764286.0   250  \n",
       "2           WILLIAMSVILLE    NY      14221.0   250  \n",
       "3                NEW YORK    NY      10023.0  1000  \n",
       "4                 BUFFALO    NY      14214.0   250  "
      ]
     },
     "execution_count": 10,
     "metadata": {},
     "output_type": "execute_result"
    }
   ],
   "source": [
    "# Create a DataFrame with given columns and value\n",
    "donors_df = pd.read_csv(\"../Resources/donors2021.csv\")\n",
    "\n",
    "donors_df.head()"
   ]
  },
  {
   "cell_type": "code",
   "execution_count": 11,
   "metadata": {},
   "outputs": [
    {
     "data": {
      "text/plain": [
       "<bound method NDFrame.head of                                  Donor                      Employer  \\\n",
       "0                         CAREY, JAMES                    UNEMPLOYED   \n",
       "1                       OBICI, SILVANA                   STONY BROOK   \n",
       "2                       MAISLIN, KAREN                       RETIRED   \n",
       "3     MCCLELLAND, CARTER AND STEPHANIE         UNION SQUARE ADVISORS   \n",
       "4                    MCCLUSKEY, MARTHA  STATE UNIVERSITY OF NEW YORK   \n",
       "...                                ...                           ...   \n",
       "1813                  KROMHOUT, WILEEN                          UCLA   \n",
       "1814                   KRONHEIM, NANCY                    UNEMPLOYED   \n",
       "1815                      KROOP, STEVE                   FLYTEC, USA   \n",
       "1816                       KRSEK, PAUL                5T WEALTH, LLC   \n",
       "1817                    KRUEGER, BETTY                    UNEMPLOYED   \n",
       "\n",
       "                        City State     Zip Code  Donation Amount  \n",
       "0                  HOCKESSIN    DE  197071618.0              500  \n",
       "1     PORT JEFFERSON STATION    NY  117764286.0              250  \n",
       "2              WILLIAMSVILLE    NY      14221.0              250  \n",
       "3                   NEW YORK    NY      10023.0             1000  \n",
       "4                    BUFFALO    NY      14214.0              250  \n",
       "...                      ...   ...          ...              ...  \n",
       "1813            PORTER RANCH    CA  913263018.0               57  \n",
       "1814               ARLINGTON    VA  222041332.0              100  \n",
       "1815            HIGH SPRINGS    FL  326431608.0               39  \n",
       "1816                    NAPA    CA  945581818.0               20  \n",
       "1817               MUNDELEIN    IL  600606036.0               25  \n",
       "\n",
       "[1818 rows x 6 columns]>"
      ]
     },
     "execution_count": 11,
     "metadata": {},
     "output_type": "execute_result"
    }
   ],
   "source": [
    "# Rename columns for readability\n",
    "donors_df_renamed = donors_df.rename(columns={\n",
    "    \"donorName\": \"Donor\",\n",
    "    \"employerName\":\"Employer\",\n",
    "    \"zipcode\":\"Zip Code\",\n",
    "    \"usd\":\"Donation Amount\"\n",
    "\n",
    "})\n",
    "donors_df_renamed.head"
   ]
  },
  {
   "cell_type": "code",
   "execution_count": 12,
   "metadata": {},
   "outputs": [],
   "source": [
    "# Organize the columns so that only the donor name,\n",
    "# amount, employer, and city are displayed. \n",
    "# The name and donation amount should be first\n",
    "donors_df_organized = donors_df_renamed[['Donor', 'Donation Amount', 'Employer', 'City']]"
   ]
  },
  {
   "cell_type": "code",
   "execution_count": null,
   "metadata": {},
   "outputs": [],
   "source": []
  }
 ],
 "metadata": {
  "kernelspec": {
   "display_name": "Python 3 (ipykernel)",
   "language": "python",
   "name": "python3"
  },
  "language_info": {
   "codemirror_mode": {
    "name": "ipython",
    "version": 3
   },
   "file_extension": ".py",
   "mimetype": "text/x-python",
   "name": "python",
   "nbconvert_exporter": "python",
   "pygments_lexer": "ipython3",
   "version": "3.10.13"
  }
 },
 "nbformat": 4,
 "nbformat_minor": 2
}
